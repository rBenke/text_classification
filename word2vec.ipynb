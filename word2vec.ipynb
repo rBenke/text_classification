{
 "cells": [
  {
   "cell_type": "code",
   "execution_count": 1,
   "metadata": {},
   "outputs": [
    {
     "name": "stdout",
     "output_type": "stream",
     "text": [
      "(2225, 3)\n"
     ]
    }
   ],
   "source": [
    "import pandas as pd\n",
    "from sklearn.model_selection import train_test_split\n",
    "data = pd.read_feather(\"dataFrame.feather\")\n",
    "data[\"category\"] = pd.Categorical(data[\"category\"])\n",
    "print(data.shape)\n",
    "X = data[\"text\"]\n",
    "Y = pd.get_dummies(data[\"category\"])\n",
    "train_X, test_X, train_Y, test_Y = train_test_split(X, Y, test_size = 0.2)"
   ]
  },
  {
   "cell_type": "code",
   "execution_count": 2,
   "metadata": {},
   "outputs": [
    {
     "name": "stderr",
     "output_type": "stream",
     "text": [
      "Using TensorFlow backend.\n"
     ]
    }
   ],
   "source": [
    "# that would be great but you dont have enough memory\n",
    "import gensim\n",
    "\n",
    "# Load Google's pre-trained Word2Vec model.\n",
    "#model = gensim.models.KeyedVectors.load_word2vec_format('/home/robertb/Desktop/text_embeddings/project/GoogleNews-vectors-negative300.bin', binary=True)  \n",
    "model_w2v = gensim.models.Word2Vec.load('/home/robertb/Desktop/text_embeddings/project/simple_word2vec.model')  \n",
    "\n",
    "# get word embedding matrix\n",
    "embedding_layer = model_w2v.wv.get_keras_embedding(train_embeddings=True)\n"
   ]
  },
  {
   "cell_type": "code",
   "execution_count": 2,
   "metadata": {},
   "outputs": [],
   "source": [
    "# Only if pretrained model is not available\n",
    "\n",
    "\n",
    "# learn embedings\n",
    "# import gensim \n",
    "# from nltk.tokenize import sent_tokenize, word_tokenize\n",
    "\n",
    "# text_new_line = [data.iloc[i,1].replace('\\n', \". \") for i in range(data.shape[0])]\n",
    "# text_tokenized = [word_tokenize(text_new_line[i]) for i in range(len(text_new_line))]\n",
    "\n",
    "# model = gensim.models.Word2Vec(\n",
    "#         text_tokenized,\n",
    "#         size=100,\n",
    "#         window=6,\n",
    "#         min_count=1,\n",
    "#         workers=4,\n",
    "#         iter=10)\n",
    "\n",
    "# model.save(\"simple_word2vec.model\")\n"
   ]
  },
  {
   "cell_type": "code",
   "execution_count": 3,
   "metadata": {},
   "outputs": [],
   "source": [
    "from keras.preprocessing.text import Tokenizer\n",
    "from keras.preprocessing.sequence import pad_sequences\n",
    "# get pairs word:index(word) \n",
    "vocabulary = {token: token_index for token_index, token in enumerate(model_w2v.wv.index2word)} \n",
    "# change words to integer seq using indexes\n",
    "tk = Tokenizer(num_words=len(vocabulary)) \n",
    "tk.word_index = vocabulary \n",
    "\n",
    "train_text_seq = tk.texts_to_sequences(train_X)\n",
    "maxlen = max([len(text) for text in train_text_seq])\n",
    "train_text_seq = pad_sequences(train_text_seq, maxlen=maxlen, padding=\"post\", value=0.0)\n",
    "\n",
    "test_text_seq = tk.texts_to_sequences(test_X)\n",
    "test_text_seq = pad_sequences(test_text_seq, maxlen=maxlen, padding=\"post\", value=0.0)\n",
    "\n"
   ]
  },
  {
   "cell_type": "code",
   "execution_count": 4,
   "metadata": {
    "scrolled": true
   },
   "outputs": [
    {
     "name": "stdout",
     "output_type": "stream",
     "text": [
      "Model: \"sequential_1\"\n",
      "_________________________________________________________________\n",
      "Layer (type)                 Output Shape              Param #   \n",
      "=================================================================\n",
      "embedding_1 (Embedding)      (None, None, 100)         4226700   \n",
      "_________________________________________________________________\n",
      "bidirectional_1 (Bidirection (None, 32)                14976     \n",
      "_________________________________________________________________\n",
      "dense_1 (Dense)              (None, 5)                 165       \n",
      "=================================================================\n",
      "Total params: 4,241,841\n",
      "Trainable params: 4,241,841\n",
      "Non-trainable params: 0\n",
      "_________________________________________________________________\n",
      "None\n"
     ]
    }
   ],
   "source": [
    "import keras.models as km\n",
    "from keras.layers import Activation, Dense, Embedding, Bidirectional, Dropout, LSTM\n",
    "# define the model\n",
    "model_NN = km.Sequential()\n",
    "\n",
    "#model_NN.add(Embedding(len(vocabulary)+1,100,trainable=True))\n",
    "model_NN.add(embedding_layer)\n",
    "\n",
    "model_NN.add(Bidirectional(LSTM(16, return_sequences=False)))\n",
    "\n",
    "model_NN.add(Dense(5, activation='softmax'))\n",
    "# compile the model\n",
    "model_NN.compile(optimizer='adam', loss='categorical_crossentropy', metrics=['accuracy'])\n",
    "# summarize the model\n",
    "print(model_NN.summary())"
   ]
  },
  {
   "cell_type": "code",
   "execution_count": 5,
   "metadata": {
    "scrolled": true
   },
   "outputs": [
    {
     "name": "stderr",
     "output_type": "stream",
     "text": [
      "/home/robertb/anaconda3/lib/python3.6/site-packages/tensorflow_core/python/framework/indexed_slices.py:424: UserWarning: Converting sparse IndexedSlices to a dense Tensor of unknown shape. This may consume a large amount of memory.\n",
      "  \"Converting sparse IndexedSlices to a dense Tensor of unknown shape. \"\n"
     ]
    },
    {
     "name": "stdout",
     "output_type": "stream",
     "text": [
      "Train on 1780 samples, validate on 445 samples\n",
      "Epoch 1/5\n",
      "1780/1780 [==============================] - 142s 80ms/step - loss: 1.5980 - accuracy: 0.2624 - val_loss: 1.5387 - val_accuracy: 0.3371\n",
      "Epoch 2/5\n",
      "1780/1780 [==============================] - 133s 75ms/step - loss: 1.4972 - accuracy: 0.4000 - val_loss: 1.4425 - val_accuracy: 0.4427\n",
      "Epoch 3/5\n",
      "1780/1780 [==============================] - 139s 78ms/step - loss: 1.3746 - accuracy: 0.5242 - val_loss: 1.3115 - val_accuracy: 0.5618\n",
      "Epoch 4/5\n",
      "1780/1780 [==============================] - 158s 89ms/step - loss: 1.2153 - accuracy: 0.6253 - val_loss: 1.1349 - val_accuracy: 0.6539\n",
      "Epoch 5/5\n",
      "1780/1780 [==============================] - 139s 78ms/step - loss: 1.0246 - accuracy: 0.7039 - val_loss: 0.9512 - val_accuracy: 0.7056\n"
     ]
    }
   ],
   "source": [
    "hist=model_NN.fit(train_text_seq,\n",
    "                  train_Y,\n",
    "                  epochs=5,\n",
    "                  batch_size=128,\n",
    "                  validation_data=(test_text_seq, test_Y),\n",
    "                  verbose=1)"
   ]
  },
  {
   "cell_type": "code",
   "execution_count": 11,
   "metadata": {},
   "outputs": [
    {
     "name": "stdout",
     "output_type": "stream",
     "text": [
      "   val_loss  val_accuracy      loss  accuracy\n",
      "0  1.538684      0.337079  1.598016  0.262360\n",
      "1  1.442531      0.442697  1.497157  0.400000\n",
      "2  1.311496      0.561798  1.374581  0.524157\n",
      "3  1.134909      0.653933  1.215316  0.625281\n",
      "4  0.951231      0.705618  1.024592  0.703933\n"
     ]
    },
    {
     "data": {
      "image/png": "[encoded data removed]",
      "text/plain": [
       "<Figure size 864x864 with 1 Axes>"
      ]
     },
     "metadata": {
      "needs_background": "light"
     },
     "output_type": "display_data"
    }
   ],
   "source": [
    "import matplotlib.pyplot as plt\n",
    "print(history)\n",
    "history = pd.DataFrame(hist.history)\n",
    "plt.figure(figsize=(12,12));\n",
    "plt.plot(history[\"accuracy\"]);\n",
    "plt.plot(history[\"val_accuracy\"]);\n",
    "plt.title(\"Loss with pretrained word vectors\");\n",
    "plt.show();"
   ]
  }
 ],
 "metadata": {
  "kernelspec": {
   "display_name": "Python 3",
   "language": "python",
   "name": "python3"
  },
  "language_info": {
   "codemirror_mode": {
    "name": "ipython",
    "version": 3
   },
   "file_extension": ".py",
   "mimetype": "text/x-python",
   "name": "python",
   "nbconvert_exporter": "python",
   "pygments_lexer": "ipython3",
   "version": "3.6.5"
  }
 },
 "nbformat": 4,
 "nbformat_minor": 2
}
