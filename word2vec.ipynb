{
 "cells": [
  {
   "cell_type": "code",
   "execution_count": 19,
   "metadata": {},
   "outputs": [
    {
     "name": "stdout",
     "output_type": "stream",
     "text": [
      "(2225, 3)\n"
     ]
    }
   ],
   "source": [
    "import pandas as pd\n",
    "from sklearn.model_selection import train_test_split\n",
    "data = pd.read_feather(\"dataFrame.feather\")\n",
    "data[\"category\"] = pd.Categorical(data[\"category\"])\n",
    "print(data.shape)\n",
    "X = data[\"text\"]\n",
    "Y = pd.get_dummies(data[\"category\"])\n",
    "train_X, test_X, train_Y, test_Y = train_test_split(X, Y, test_size = 0.2)"
   ]
  },
  {
   "cell_type": "code",
   "execution_count": 22,
   "metadata": {},
   "outputs": [],
   "source": [
    "# that would be great but you dont have enough memory\n",
    "import gensim\n",
    "\n",
    "# Load Google's pre-trained Word2Vec model.\n",
    "#model = gensim.models.KeyedVectors.load_word2vec_format('/home/robertb/Desktop/text_embeddings/project/GoogleNews-vectors-negative300.bin', binary=True)  \n",
    "model_w2v = gensim.models.Word2Vec.load('/home/robertb/Desktop/text_embeddings/project/simple_word2vec.model')  \n"
   ]
  },
  {
   "cell_type": "code",
   "execution_count": 2,
   "metadata": {},
   "outputs": [],
   "source": [
    "# # learn embedings\n",
    "# import gensim \n",
    "# from nltk.tokenize import sent_tokenize, word_tokenize\n",
    "\n",
    "# text_new_line = [data.iloc[i,1].replace('\\n', \". \") for i in range(data.shape[0])]\n",
    "# text_tokenized = [word_tokenize(text_new_line[i]) for i in range(len(text_new_line))]\n",
    "\n",
    "# model = gensim.models.Word2Vec(\n",
    "#         text_tokenized,\n",
    "#         size=100,\n",
    "#         window=6,\n",
    "#         min_count=1,\n",
    "#         workers=4,\n",
    "#         iter=10)\n",
    "\n",
    "# model.save(\"simple_word2vec.model\")\n"
   ]
  },
  {
   "cell_type": "code",
   "execution_count": 43,
   "metadata": {
    "scrolled": true
   },
   "outputs": [],
   "source": [
    "from keras.preprocessing.text import Tokenizer\n",
    "from keras.preprocessing.sequence import pad_sequences\n",
    "# get pairs word:index(word) \n",
    "vocabulary = {token: token_index for token_index, token in enumerate(model_w2v.wv.index2word)} \n",
    "# change words to integer seq using indexes\n",
    "tk = Tokenizer(num_words=len(vocabulary)) \n",
    "tk.word_index = vocabulary \n",
    "\n",
    "train_text_seq = tk.texts_to_sequences(train_X)\n",
    "maxlen = max([len(text) for text in train_text_seq])\n",
    "train_text_seq = pad_sequences(train_text_seq, maxlen=maxlen, padding=\"post\", value=0.0)\n",
    "\n",
    "test_text_seq = tk.texts_to_sequences(test_X)\n",
    "test_text_seq = pad_sequences(test_text_seq, maxlen=maxlen, padding=\"post\", value=0.0)\n",
    "\n",
    "\n",
    "# get word embedding matrix\n",
    "#embedding_matrix = model_w2v.wv.get_keras_embedding(train_embeddings=False)\n"
   ]
  },
  {
   "cell_type": "code",
   "execution_count": 47,
   "metadata": {
    "scrolled": false
   },
   "outputs": [
    {
     "name": "stdout",
     "output_type": "stream",
     "text": [
      "Model: \"sequential_2\"\n",
      "_________________________________________________________________\n",
      "Layer (type)                 Output Shape              Param #   \n",
      "=================================================================\n",
      "embedding_2 (Embedding)      (None, None, 100)         4226800   \n",
      "_________________________________________________________________\n",
      "global_average_pooling1d_2 ( (None, 100)               0         \n",
      "_________________________________________________________________\n",
      "dense_2 (Dense)              (None, 5)                 505       \n",
      "=================================================================\n",
      "Total params: 4,227,305\n",
      "Trainable params: 4,227,305\n",
      "Non-trainable params: 0\n",
      "_________________________________________________________________\n",
      "None\n"
     ]
    }
   ],
   "source": [
    "import keras.models as km\n",
    "from keras.layers import Activation, Dense, Flatten, GlobalAveragePooling1D, Embedding\n",
    "# define the model\n",
    "model_NN = km.Sequential()\n",
    "model_NN.add(Embedding(len(vocabulary)+1,100,trainable=True))\n",
    "model_NN.add(GlobalAveragePooling1D())\n",
    "model_NN.add(Dense(5, activation='sigmoid'))\n",
    "# compile the model\n",
    "model_NN.compile(optimizer='adam', loss='binary_crossentropy', metrics=['accuracy'])\n",
    "# summarize the model\n",
    "print(model_NN.summary())"
   ]
  },
  {
   "cell_type": "code",
   "execution_count": 48,
   "metadata": {},
   "outputs": [
    {
     "name": "stderr",
     "output_type": "stream",
     "text": [
      "/home/robertb/anaconda3/lib/python3.6/site-packages/tensorflow_core/python/framework/indexed_slices.py:424: UserWarning: Converting sparse IndexedSlices to a dense Tensor of unknown shape. This may consume a large amount of memory.\n",
      "  \"Converting sparse IndexedSlices to a dense Tensor of unknown shape. \"\n"
     ]
    },
    {
     "name": "stdout",
     "output_type": "stream",
     "text": [
      "Train on 1780 samples, validate on 445 samples\n",
      "Epoch 1/10\n",
      "1780/1780 [==============================] - 5s 3ms/step - loss: 0.6796 - accuracy: 0.6554 - val_loss: 0.6620 - val_accuracy: 0.8000\n",
      "Epoch 2/10\n",
      "1780/1780 [==============================] - 5s 3ms/step - loss: 0.6470 - accuracy: 0.8000 - val_loss: 0.6296 - val_accuracy: 0.8000\n",
      "Epoch 3/10\n",
      "1780/1780 [==============================] - 5s 3ms/step - loss: 0.6143 - accuracy: 0.8000 - val_loss: 0.5962 - val_accuracy: 0.8000\n",
      "Epoch 4/10\n",
      "1780/1780 [==============================] - 5s 3ms/step - loss: 0.5805 - accuracy: 0.8000 - val_loss: 0.5628 - val_accuracy: 0.8000\n",
      "Epoch 5/10\n",
      "1780/1780 [==============================] - 5s 3ms/step - loss: 0.5487 - accuracy: 0.8000 - val_loss: 0.5336 - val_accuracy: 0.8000\n",
      "Epoch 6/10\n",
      "1780/1780 [==============================] - 5s 3ms/step - loss: 0.5233 - accuracy: 0.8000 - val_loss: 0.5133 - val_accuracy: 0.8000\n",
      "Epoch 7/10\n",
      "1780/1780 [==============================] - 5s 3ms/step - loss: 0.5078 - accuracy: 0.8000 - val_loss: 0.5027 - val_accuracy: 0.8000\n",
      "Epoch 8/10\n",
      "1780/1780 [==============================] - 5s 3ms/step - loss: 0.5009 - accuracy: 0.8000 - val_loss: 0.4987 - val_accuracy: 0.8000\n",
      "Epoch 9/10\n",
      "1780/1780 [==============================] - 5s 3ms/step - loss: 0.4986 - accuracy: 0.8000 - val_loss: 0.4971 - val_accuracy: 0.8000\n",
      "Epoch 10/10\n",
      "1780/1780 [==============================] - 5s 3ms/step - loss: 0.4979 - accuracy: 0.8000 - val_loss: 0.4960 - val_accuracy: 0.8000\n"
     ]
    }
   ],
   "source": [
    "history=model_NN.fit(train_text_seq,\n",
    "                  train_Y,\n",
    "                  epochs=10,\n",
    "                  batch_size=128,\n",
    "                  validation_data=(test_text_seq, test_Y),\n",
    "                  verbose=1)"
   ]
  },
  {
   "cell_type": "code",
   "execution_count": 70,
   "metadata": {},
   "outputs": [
    {
     "data": {
      "text/plain": [
       "2225"
      ]
     },
     "execution_count": 70,
     "metadata": {},
     "output_type": "execute_result"
    }
   ],
   "source": [
    "data.shape[0]"
   ]
  }
 ],
 "metadata": {
  "kernelspec": {
   "display_name": "Python 3",
   "language": "python",
   "name": "python3"
  },
  "language_info": {
   "codemirror_mode": {
    "name": "ipython",
    "version": 3
   },
   "file_extension": ".py",
   "mimetype": "text/x-python",
   "name": "python",
   "nbconvert_exporter": "python",
   "pygments_lexer": "ipython3",
   "version": "3.6.5"
  }
 },
 "nbformat": 4,
 "nbformat_minor": 2
}
