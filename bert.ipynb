{
 "cells": [
  {
   "cell_type": "code",
   "execution_count": 1,
   "metadata": {},
   "outputs": [
    {
     "name": "stdout",
     "output_type": "stream",
     "text": [
      "(2225, 3)\n"
     ]
    }
   ],
   "source": [
    "import pandas as pd\n",
    "from sklearn.model_selection import train_test_split\n",
    "data = pd.read_feather(\"dataFrame.feather\")\n",
    "data[\"category\"] = pd.Categorical(data[\"category\"])\n",
    "print(data.shape)\n",
    "X = data[\"text\"]\n",
    "Y = pd.get_dummies(data[\"category\"])\n",
    "train_X, test_X, train_Y, test_Y = train_test_split(X, Y, test_size = 0.2)"
   ]
  },
  {
   "cell_type": "code",
   "execution_count": null,
   "metadata": {},
   "outputs": [],
   "source": [
    "from keras.preprocessing.text import Tokenizer\n",
    "from keras.preprocessing.sequence import pad_sequences\n",
    "# get pairs word:index(word) \n",
    "vocabulary = {token: token_index for token_index, token in enumerate(model_w2v.wv.index2word)} \n",
    "# change words to integer seq using indexes\n",
    "tk = Tokenizer(num_words=len(vocabulary)) \n",
    "tk.word_index = vocabulary \n",
    "\n",
    "train_text_seq = tk.texts_to_sequences(train_X)\n",
    "maxlen = max([len(text) for text in train_text_seq])\n",
    "train_text_seq = pad_sequences(train_text_seq, maxlen=maxlen, padding=\"post\", value=0.0)\n",
    "\n",
    "test_text_seq = tk.texts_to_sequences(test_X)\n",
    "test_text_seq = pad_sequences(test_text_seq, maxlen=maxlen, padding=\"post\", value=0.0)\n",
    "\n"
   ]
  }
 ],
 "metadata": {
  "kernelspec": {
   "display_name": "Python 3",
   "language": "python",
   "name": "python3"
  },
  "language_info": {
   "codemirror_mode": {
    "name": "ipython",
    "version": 3
   },
   "file_extension": ".py",
   "mimetype": "text/x-python",
   "name": "python",
   "nbconvert_exporter": "python",
   "pygments_lexer": "ipython3",
   "version": "3.6.5"
  }
 },
 "nbformat": 4,
 "nbformat_minor": 2
}
