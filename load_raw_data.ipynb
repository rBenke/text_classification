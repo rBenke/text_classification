{
 "cells": [
  {
   "cell_type": "code",
   "execution_count": 1,
   "metadata": {},
   "outputs": [],
   "source": [
    "import pandas as pd\n",
    "import os\n",
    "data_path =  os.getcwd()\n",
    "# folders names\n",
    "categories = [\"business\", \"tech\", \"politics\", \"sport\", \"entertainment\"]\n",
    "# paths to folders\n",
    "folder_path = [data_path + \"/bbc/\" + categories[i] for i in range(len(categories))]\n",
    "# names of files in every folder\n",
    "file_path = []\n",
    "for i in range(len(folder_path)):\n",
    "    file_path_one_categ = [folder_path[i]+ \"/\" + file_name for file_name in os.listdir(folder_path[i])]\n",
    "    file_path.append(file_path_one_categ)\n",
    "\n",
    "# read all files\n",
    "file_text = []\n",
    "for i in range(len(categories)):\n",
    "    file_text_one_categ = []\n",
    "    for path in file_path[i]:\n",
    "        with open(path, errors=\"replace\") as open_file:\n",
    "            file_text_one_categ.append(open_file.read())\n",
    "    file_text.append(file_text_one_categ)"
   ]
  },
  {
   "cell_type": "code",
   "execution_count": 12,
   "metadata": {},
   "outputs": [
    {
     "name": "stdout",
     "output_type": "stream",
     "text": [
      "510\n",
      "510\n",
      "401\n",
      "401\n",
      "417\n",
      "417\n",
      "511\n",
      "511\n",
      "386\n",
      "386\n"
     ]
    }
   ],
   "source": [
    "# concatenate all into single data.frame\n",
    "dataFrame_list = []\n",
    "for i in range(len(file_text)):\n",
    "    data_one_cat = pd.DataFrame([file_text[i], [categories[i]]*len(file_text[i])])\n",
    "    data_one_cat = data_one_cat.transpose()\n",
    "    data_one_cat.columns= [\"text\", \"category\"]\n",
    "    dataFrame_list.append(data_one_cat)\n",
    "\n",
    "data_all = pd.concat(dataFrame_list)"
   ]
  },
  {
   "cell_type": "code",
   "execution_count": 41,
   "metadata": {},
   "outputs": [
    {
     "name": "stdout",
     "output_type": "stream",
     "text": [
      "               text\n",
      "category           \n",
      "business        510\n",
      "entertainment   386\n",
      "politics        417\n",
      "sport           511\n",
      "tech            401\n"
     ]
    },
    {
     "data": {
      "text/html": [
       "<div>\n",
       "<style scoped>\n",
       "    .dataframe tbody tr th:only-of-type {\n",
       "        vertical-align: middle;\n",
       "    }\n",
       "\n",
       "    .dataframe tbody tr th {\n",
       "        vertical-align: top;\n",
       "    }\n",
       "\n",
       "    .dataframe thead th {\n",
       "        text-align: right;\n",
       "    }\n",
       "</style>\n",
       "<table border=\"1\" class=\"dataframe\">\n",
       "  <thead>\n",
       "    <tr style=\"text-align: right;\">\n",
       "      <th></th>\n",
       "      <th>text</th>\n",
       "      <th>category</th>\n",
       "    </tr>\n",
       "  </thead>\n",
       "  <tbody>\n",
       "    <tr>\n",
       "      <th>381</th>\n",
       "      <td>Dutch watch Van Gogh's last film\\n\\nThe last f...</td>\n",
       "      <td>entertainment</td>\n",
       "    </tr>\n",
       "    <tr>\n",
       "      <th>382</th>\n",
       "      <td>Alicia Keys to open US Super Bowl\\n\\nR&amp;B star ...</td>\n",
       "      <td>entertainment</td>\n",
       "    </tr>\n",
       "    <tr>\n",
       "      <th>383</th>\n",
       "      <td>Obituary: Dame Alicia Markova\\n\\nDame Alicia M...</td>\n",
       "      <td>entertainment</td>\n",
       "    </tr>\n",
       "    <tr>\n",
       "      <th>384</th>\n",
       "      <td>Russian film wins BBC world prize\\n\\nRussian d...</td>\n",
       "      <td>entertainment</td>\n",
       "    </tr>\n",
       "    <tr>\n",
       "      <th>385</th>\n",
       "      <td>Spider-Man creator wins profits\\n\\nSpider-Man ...</td>\n",
       "      <td>entertainment</td>\n",
       "    </tr>\n",
       "  </tbody>\n",
       "</table>\n",
       "</div>"
      ],
      "text/plain": [
       "                                                  text       category\n",
       "381  Dutch watch Van Gogh's last film\\n\\nThe last f...  entertainment\n",
       "382  Alicia Keys to open US Super Bowl\\n\\nR&B star ...  entertainment\n",
       "383  Obituary: Dame Alicia Markova\\n\\nDame Alicia M...  entertainment\n",
       "384  Russian film wins BBC world prize\\n\\nRussian d...  entertainment\n",
       "385  Spider-Man creator wins profits\\n\\nSpider-Man ...  entertainment"
      ]
     },
     "execution_count": 41,
     "metadata": {},
     "output_type": "execute_result"
    }
   ],
   "source": [
    "print(data_all.groupby(\"category\").count())\n",
    "data_all.tail(5)"
   ]
  },
  {
   "cell_type": "code",
   "execution_count": 47,
   "metadata": {},
   "outputs": [
    {
     "data": {
      "text/plain": [
       "(2225, 3)"
      ]
     },
     "execution_count": 47,
     "metadata": {},
     "output_type": "execute_result"
    }
   ],
   "source": [
    "data_all.reset_index().to_feather(fname=\"dataFrame.feather\")"
   ]
  }
 ],
 "metadata": {
  "kernelspec": {
   "display_name": "Python 3",
   "language": "python",
   "name": "python3"
  },
  "language_info": {
   "codemirror_mode": {
    "name": "ipython",
    "version": 3
   },
   "file_extension": ".py",
   "mimetype": "text/x-python",
   "name": "python",
   "nbconvert_exporter": "python",
   "pygments_lexer": "ipython3",
   "version": "3.6.5"
  }
 },
 "nbformat": 4,
 "nbformat_minor": 2
}
